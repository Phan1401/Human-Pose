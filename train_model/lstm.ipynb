{
 "cells": [
  {
   "cell_type": "code",
   "execution_count": 6,
   "id": "50e11bbb-b36d-4d0e-af5a-f18768ee098d",
   "metadata": {},
   "outputs": [
    {
     "name": "stdout",
     "output_type": "stream",
     "text": [
      "Dữ liệu đầu vào: (10947, 10, 132), Nhãn: (10947,)\n",
      "Epoch 1/20\n"
     ]
    },
    {
     "name": "stderr",
     "output_type": "stream",
     "text": [
      "C:\\Users\\Admin\\AppData\\Roaming\\Python\\Python311\\site-packages\\keras\\src\\layers\\rnn\\rnn.py:204: UserWarning: Do not pass an `input_shape`/`input_dim` argument to a layer. When using Sequential models, prefer using an `Input(shape)` object as the first layer in the model instead.\n",
      "  super().__init__(**kwargs)\n"
     ]
    },
    {
     "name": "stdout",
     "output_type": "stream",
     "text": [
      "\u001b[1m274/274\u001b[0m \u001b[32m━━━━━━━━━━━━━━━━━━━━\u001b[0m\u001b[37m\u001b[0m \u001b[1m6s\u001b[0m 8ms/step - accuracy: 0.7212 - loss: 0.7209 - val_accuracy: 0.9411 - val_loss: 0.2041\n",
      "Epoch 2/20\n",
      "\u001b[1m274/274\u001b[0m \u001b[32m━━━━━━━━━━━━━━━━━━━━\u001b[0m\u001b[37m\u001b[0m \u001b[1m2s\u001b[0m 7ms/step - accuracy: 0.9230 - loss: 0.2016 - val_accuracy: 0.9365 - val_loss: 0.1564\n",
      "Epoch 3/20\n",
      "\u001b[1m274/274\u001b[0m \u001b[32m━━━━━━━━━━━━━━━━━━━━\u001b[0m\u001b[37m\u001b[0m \u001b[1m2s\u001b[0m 7ms/step - accuracy: 0.9478 - loss: 0.1435 - val_accuracy: 0.9680 - val_loss: 0.0973\n",
      "Epoch 4/20\n",
      "\u001b[1m274/274\u001b[0m \u001b[32m━━━━━━━━━━━━━━━━━━━━\u001b[0m\u001b[37m\u001b[0m \u001b[1m2s\u001b[0m 7ms/step - accuracy: 0.9656 - loss: 0.0987 - val_accuracy: 0.9699 - val_loss: 0.0793\n",
      "Epoch 5/20\n",
      "\u001b[1m274/274\u001b[0m \u001b[32m━━━━━━━━━━━━━━━━━━━━\u001b[0m\u001b[37m\u001b[0m \u001b[1m2s\u001b[0m 7ms/step - accuracy: 0.9579 - loss: 0.1074 - val_accuracy: 0.9781 - val_loss: 0.0574\n",
      "Epoch 6/20\n",
      "\u001b[1m274/274\u001b[0m \u001b[32m━━━━━━━━━━━━━━━━━━━━\u001b[0m\u001b[37m\u001b[0m \u001b[1m2s\u001b[0m 7ms/step - accuracy: 0.9681 - loss: 0.0939 - val_accuracy: 0.9562 - val_loss: 0.1198\n",
      "Epoch 7/20\n",
      "\u001b[1m274/274\u001b[0m \u001b[32m━━━━━━━━━━━━━━━━━━━━\u001b[0m\u001b[37m\u001b[0m \u001b[1m2s\u001b[0m 8ms/step - accuracy: 0.9733 - loss: 0.0645 - val_accuracy: 0.9826 - val_loss: 0.0504\n",
      "Epoch 8/20\n",
      "\u001b[1m274/274\u001b[0m \u001b[32m━━━━━━━━━━━━━━━━━━━━\u001b[0m\u001b[37m\u001b[0m \u001b[1m2s\u001b[0m 8ms/step - accuracy: 0.9840 - loss: 0.0447 - val_accuracy: 0.9813 - val_loss: 0.0485\n",
      "Epoch 9/20\n",
      "\u001b[1m274/274\u001b[0m \u001b[32m━━━━━━━━━━━━━━━━━━━━\u001b[0m\u001b[37m\u001b[0m \u001b[1m2s\u001b[0m 8ms/step - accuracy: 0.9835 - loss: 0.0442 - val_accuracy: 0.9731 - val_loss: 0.0680\n",
      "Epoch 10/20\n",
      "\u001b[1m274/274\u001b[0m \u001b[32m━━━━━━━━━━━━━━━━━━━━\u001b[0m\u001b[37m\u001b[0m \u001b[1m2s\u001b[0m 8ms/step - accuracy: 0.9761 - loss: 0.0718 - val_accuracy: 0.9621 - val_loss: 0.1082\n",
      "Epoch 11/20\n",
      "\u001b[1m274/274\u001b[0m \u001b[32m━━━━━━━━━━━━━━━━━━━━\u001b[0m\u001b[37m\u001b[0m \u001b[1m3s\u001b[0m 9ms/step - accuracy: 0.9662 - loss: 0.0895 - val_accuracy: 0.9831 - val_loss: 0.0541\n",
      "Epoch 12/20\n",
      "\u001b[1m274/274\u001b[0m \u001b[32m━━━━━━━━━━━━━━━━━━━━\u001b[0m\u001b[37m\u001b[0m \u001b[1m3s\u001b[0m 9ms/step - accuracy: 0.9850 - loss: 0.0431 - val_accuracy: 0.9936 - val_loss: 0.0175\n",
      "Epoch 13/20\n",
      "\u001b[1m274/274\u001b[0m \u001b[32m━━━━━━━━━━━━━━━━━━━━\u001b[0m\u001b[37m\u001b[0m \u001b[1m2s\u001b[0m 9ms/step - accuracy: 0.9888 - loss: 0.0295 - val_accuracy: 0.9799 - val_loss: 0.0465\n",
      "Epoch 14/20\n",
      "\u001b[1m274/274\u001b[0m \u001b[32m━━━━━━━━━━━━━━━━━━━━\u001b[0m\u001b[37m\u001b[0m \u001b[1m2s\u001b[0m 8ms/step - accuracy: 0.9833 - loss: 0.0457 - val_accuracy: 0.9758 - val_loss: 0.0569\n",
      "Epoch 15/20\n",
      "\u001b[1m274/274\u001b[0m \u001b[32m━━━━━━━━━━━━━━━━━━━━\u001b[0m\u001b[37m\u001b[0m \u001b[1m2s\u001b[0m 7ms/step - accuracy: 0.9814 - loss: 0.0499 - val_accuracy: 0.9772 - val_loss: 0.0772\n",
      "Epoch 16/20\n",
      "\u001b[1m274/274\u001b[0m \u001b[32m━━━━━━━━━━━━━━━━━━━━\u001b[0m\u001b[37m\u001b[0m \u001b[1m2s\u001b[0m 7ms/step - accuracy: 0.9804 - loss: 0.0609 - val_accuracy: 0.9840 - val_loss: 0.0364\n",
      "Epoch 17/20\n",
      "\u001b[1m274/274\u001b[0m \u001b[32m━━━━━━━━━━━━━━━━━━━━\u001b[0m\u001b[37m\u001b[0m \u001b[1m2s\u001b[0m 7ms/step - accuracy: 0.9895 - loss: 0.0287 - val_accuracy: 0.9968 - val_loss: 0.0124\n",
      "Epoch 18/20\n",
      "\u001b[1m274/274\u001b[0m \u001b[32m━━━━━━━━━━━━━━━━━━━━\u001b[0m\u001b[37m\u001b[0m \u001b[1m2s\u001b[0m 7ms/step - accuracy: 0.9924 - loss: 0.0243 - val_accuracy: 0.9936 - val_loss: 0.0193\n",
      "Epoch 19/20\n",
      "\u001b[1m274/274\u001b[0m \u001b[32m━━━━━━━━━━━━━━━━━━━━\u001b[0m\u001b[37m\u001b[0m \u001b[1m2s\u001b[0m 7ms/step - accuracy: 0.9880 - loss: 0.0310 - val_accuracy: 0.9904 - val_loss: 0.0207\n",
      "Epoch 20/20\n",
      "\u001b[1m274/274\u001b[0m \u001b[32m━━━━━━━━━━━━━━━━━━━━\u001b[0m\u001b[37m\u001b[0m \u001b[1m2s\u001b[0m 7ms/step - accuracy: 0.9887 - loss: 0.0308 - val_accuracy: 0.9831 - val_loss: 0.0389\n"
     ]
    },
    {
     "name": "stderr",
     "output_type": "stream",
     "text": [
      "WARNING:absl:You are saving your model as an HDF5 file via `model.save()` or `keras.saving.save_model(model)`. This file format is considered legacy. We recommend using instead the native Keras format, e.g. `model.save('my_model.keras')` or `keras.saving.save_model(model, 'my_model.keras')`. \n"
     ]
    },
    {
     "name": "stdout",
     "output_type": "stream",
     "text": [
      "Huấn luyện xong và đã lưu model!\n"
     ]
    }
   ],
   "source": [
    "import numpy as np\n",
    "import pandas as pd\n",
    "from keras.layers import LSTM, Dense, Dropout\n",
    "from keras.models import Sequential\n",
    "from sklearn.model_selection import train_test_split\n",
    "\n",
    "#Danh sách các file và nhãn tương ứng\n",
    "files_labels = {\n",
    "    \"dung_yen.csv\": 0,\n",
    "    \"chay.csv\": 1, \n",
    "    \"di_bo.csv\": 2,   \n",
    "    \"ngoi.csv\": 3,\n",
    "    \"dam.csv\": 4,\n",
    "    \"vay_tay.csv\": 5 \n",
    "}\n",
    "\n",
    "X = []\n",
    "y = []\n",
    "no_of_timesteps = 10  # Số bước thời gian (sequence length)\n",
    "\n",
    "#Đọc và xử lý dữ liệu từ mỗi file\n",
    "for file, label in files_labels.items():\n",
    "    df = pd.read_csv(file)\n",
    "    dataset = df.iloc[:, :].values  # Lấy toàn bộ cột làm input\n",
    "    n_sample = len(dataset)\n",
    "    \n",
    "    # Chia dữ liệu thành chuỗi thời gian\n",
    "    for i in range(no_of_timesteps, n_sample):\n",
    "        X.append(dataset[i-no_of_timesteps:i, :])\n",
    "        y.append(label)\n",
    "\n",
    "X, y = np.array(X), np.array(y)\n",
    "print(f\"Dữ liệu đầu vào: {X.shape}, Nhãn: {y.shape}\")\n",
    "\n",
    "#Chia dữ liệu thành tập train và test\n",
    "X_train, X_test, y_train, y_test = train_test_split(X, y, test_size=0.2, stratify=y)\n",
    "\n",
    "#Xây dựng mô hình LSTM\n",
    "model = Sequential([\n",
    "    LSTM(units=64, return_sequences=True, input_shape=(X.shape[1], X.shape[2])),\n",
    "    Dropout(0.3),\n",
    "    LSTM(units=64, return_sequences=True),\n",
    "    Dropout(0.3),\n",
    "    LSTM(units=64),\n",
    "    Dropout(0.3),\n",
    "    Dense(units=6, activation=\"softmax\")  # 6 lớp cho 6 nhãn\n",
    "])\n",
    "\n",
    "#Compile mô hình\n",
    "model.compile(optimizer=\"adam\", loss=\"sparse_categorical_crossentropy\", metrics=[\"accuracy\"])\n",
    "\n",
    "#Huấn luyện mô hình\n",
    "model.fit(X_train, y_train, epochs=20, batch_size=32, validation_data=(X_test, y_test))\n",
    "\n",
    "#Lưu mô hình\n",
    "model.save(\"lstm_pose_model.h5\")\n",
    "\n",
    "print(\"Huấn luyện xong và đã lưu model!\")\n"
   ]
  },
  {
   "cell_type": "code",
   "execution_count": null,
   "id": "5cdf0a42-9976-425a-9a7a-2144af6989f4",
   "metadata": {},
   "outputs": [],
   "source": []
  }
 ],
 "metadata": {
  "kernelspec": {
   "display_name": "Python 3 (ipykernel)",
   "language": "python",
   "name": "python3"
  },
  "language_info": {
   "codemirror_mode": {
    "name": "ipython",
    "version": 3
   },
   "file_extension": ".py",
   "mimetype": "text/x-python",
   "name": "python",
   "nbconvert_exporter": "python",
   "pygments_lexer": "ipython3",
   "version": "3.11.7"
  }
 },
 "nbformat": 4,
 "nbformat_minor": 5
}
