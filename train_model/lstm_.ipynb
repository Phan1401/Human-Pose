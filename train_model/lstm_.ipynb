{
 "cells": [
  {
   "cell_type": "code",
   "execution_count": 3,
   "metadata": {},
   "outputs": [
    {
     "name": "stdout",
     "output_type": "stream",
     "text": [
      "Dữ liệu đầu vào: (15002, 10, 132), Nhãn: (15002,)\n",
      "Epoch 1/50\n"
     ]
    },
    {
     "name": "stderr",
     "output_type": "stream",
     "text": [
      "C:\\Users\\Admin\\AppData\\Roaming\\Python\\Python311\\site-packages\\keras\\src\\layers\\rnn\\rnn.py:204: UserWarning: Do not pass an `input_shape`/`input_dim` argument to a layer. When using Sequential models, prefer using an `Input(shape)` object as the first layer in the model instead.\n",
      "  super().__init__(**kwargs)\n"
     ]
    },
    {
     "name": "stdout",
     "output_type": "stream",
     "text": [
      "\u001b[1m376/376\u001b[0m \u001b[32m━━━━━━━━━━━━━━━━━━━━\u001b[0m\u001b[37m\u001b[0m \u001b[1m11s\u001b[0m 16ms/step - accuracy: 0.8521 - loss: 0.4167 - val_accuracy: 0.9957 - val_loss: 0.0131\n",
      "Epoch 2/50\n",
      "\u001b[1m376/376\u001b[0m \u001b[32m━━━━━━━━━━━━━━━━━━━━\u001b[0m\u001b[37m\u001b[0m \u001b[1m5s\u001b[0m 14ms/step - accuracy: 0.9881 - loss: 0.0426 - val_accuracy: 0.9957 - val_loss: 0.0164\n",
      "Epoch 3/50\n",
      "\u001b[1m376/376\u001b[0m \u001b[32m━━━━━━━━━━━━━━━━━━━━\u001b[0m\u001b[37m\u001b[0m \u001b[1m5s\u001b[0m 14ms/step - accuracy: 0.9832 - loss: 0.0567 - val_accuracy: 0.9953 - val_loss: 0.0175\n",
      "Epoch 4/50\n",
      "\u001b[1m376/376\u001b[0m \u001b[32m━━━━━━━━━━━━━━━━━━━━\u001b[0m\u001b[37m\u001b[0m \u001b[1m5s\u001b[0m 14ms/step - accuracy: 0.9929 - loss: 0.0249 - val_accuracy: 0.9707 - val_loss: 0.0659\n",
      "Epoch 5/50\n",
      "\u001b[1m376/376\u001b[0m \u001b[32m━━━━━━━━━━━━━━━━━━━━\u001b[0m\u001b[37m\u001b[0m \u001b[1m5s\u001b[0m 14ms/step - accuracy: 0.9917 - loss: 0.0217 - val_accuracy: 0.9980 - val_loss: 0.0043\n",
      "Epoch 6/50\n",
      "\u001b[1m376/376\u001b[0m \u001b[32m━━━━━━━━━━━━━━━━━━━━\u001b[0m\u001b[37m\u001b[0m \u001b[1m5s\u001b[0m 14ms/step - accuracy: 0.9949 - loss: 0.0169 - val_accuracy: 0.9947 - val_loss: 0.0129\n",
      "Epoch 7/50\n",
      "\u001b[1m376/376\u001b[0m \u001b[32m━━━━━━━━━━━━━━━━━━━━\u001b[0m\u001b[37m\u001b[0m \u001b[1m5s\u001b[0m 14ms/step - accuracy: 0.9940 - loss: 0.0211 - val_accuracy: 0.9347 - val_loss: 0.2258\n",
      "Epoch 8/50\n",
      "\u001b[1m376/376\u001b[0m \u001b[32m━━━━━━━━━━━━━━━━━━━━\u001b[0m\u001b[37m\u001b[0m \u001b[1m5s\u001b[0m 14ms/step - accuracy: 0.9873 - loss: 0.0415 - val_accuracy: 0.9950 - val_loss: 0.0625\n",
      "Epoch 9/50\n",
      "\u001b[1m376/376\u001b[0m \u001b[32m━━━━━━━━━━━━━━━━━━━━\u001b[0m\u001b[37m\u001b[0m \u001b[1m5s\u001b[0m 14ms/step - accuracy: 0.9929 - loss: 0.0279 - val_accuracy: 0.9973 - val_loss: 0.0080\n",
      "Epoch 10/50\n",
      "\u001b[1m376/376\u001b[0m \u001b[32m━━━━━━━━━━━━━━━━━━━━\u001b[0m\u001b[37m\u001b[0m \u001b[1m5s\u001b[0m 14ms/step - accuracy: 0.9913 - loss: 0.0280 - val_accuracy: 0.9890 - val_loss: 0.0248\n",
      "\u001b[1m94/94\u001b[0m \u001b[32m━━━━━━━━━━━━━━━━━━━━\u001b[0m\u001b[37m\u001b[0m \u001b[1m1s\u001b[0m 6ms/step - accuracy: 0.9990 - loss: 0.0028\n",
      "Độ chính xác: 99.80%\n",
      "Huấn luyện xong và đã lưu model!\n"
     ]
    }
   ],
   "source": [
    "import numpy as np\n",
    "import pandas as pd\n",
    "from keras.layers import LSTM, Dense, Dropout, Bidirectional\n",
    "from keras.models import Sequential\n",
    "from keras.callbacks import EarlyStopping, ModelCheckpoint\n",
    "from sklearn.model_selection import train_test_split\n",
    "\n",
    "# Danh sách các file và nhãn tương ứng\n",
    "files_labels = {\n",
    "    \"ngoi_lam_viec.csv\": 0,\n",
    "    \"ngoi_nga_lung.csv\": 1,\n",
    "    \"nam_ngu.csv\": 2,\n",
    "    \"gac_chan.csv\": 3,\n",
    "    \"dung_day.csv\": 4,\n",
    "    \"di_lai.csv\": 5\n",
    "}\n",
    "\n",
    "X = []\n",
    "y = []\n",
    "no_of_timesteps = 10  # Số bước thời gian (sequence length)\n",
    "\n",
    "# Đọc và xử lý dữ liệu từ mỗi file\n",
    "for file, label in files_labels.items():\n",
    "    df = pd.read_csv(file)\n",
    "    dataset = df.iloc[:, :].values  # Lấy toàn bộ cột làm input\n",
    "    n_sample = len(dataset)\n",
    "    \n",
    "    # Chia dữ liệu thành chuỗi thời gian\n",
    "    for i in range(no_of_timesteps, n_sample):\n",
    "        X.append(dataset[i-no_of_timesteps:i, :])\n",
    "        y.append(label)\n",
    "\n",
    "X, y = np.array(X), np.array(y)\n",
    "print(f\"Dữ liệu đầu vào: {X.shape}, Nhãn: {y.shape}\")\n",
    "\n",
    "# Chia dữ liệu thành tập train và test\n",
    "X_train, X_test, y_train, y_test = train_test_split(X, y, test_size=0.2, stratify=y)\n",
    "\n",
    "# Xây dựng mô hình cải tiến LSTM\n",
    "model = Sequential([\n",
    "    Bidirectional(LSTM(units=128, return_sequences=True, input_shape=(X.shape[1], X.shape[2]))),\n",
    "    Dropout(0.3),\n",
    "    Bidirectional(LSTM(units=128)),\n",
    "    Dropout(0.3),\n",
    "    Dense(64, activation=\"relu\"),\n",
    "    Dropout(0.3),\n",
    "    Dense(6, activation=\"softmax\")  # 6 lớp cho 6 nhãn\n",
    "])\n",
    "\n",
    "# Compile mô hình\n",
    "model.compile(optimizer=\"adam\", loss=\"sparse_categorical_crossentropy\", metrics=[\"accuracy\"])\n",
    "\n",
    "# EarlyStopping và Checkpoint\n",
    "early_stop = EarlyStopping(monitor=\"val_loss\", patience=5, restore_best_weights=True)\n",
    "checkpoint = ModelCheckpoint(\"best_lstm_model.keras\", save_best_only=True)\n",
    "\n",
    "# Huấn luyện mô hình\n",
    "model.fit(X_train, y_train, epochs=50, batch_size=32, validation_data=(X_test, y_test), callbacks=[early_stop, checkpoint])\n",
    "\n",
    "# Đánh giá mô hình\n",
    "loss, accuracy = model.evaluate(X_test, y_test)\n",
    "print(f\"Độ chính xác: {accuracy * 100:.2f}%\")\n",
    "\n",
    "# Lưu mô hình\n",
    "model.save(\"lstm_pose_model.keras\")\n",
    "\n",
    "print(\"Huấn luyện xong và đã lưu model!\")\n"
   ]
  },
  {
   "cell_type": "code",
   "execution_count": null,
   "metadata": {},
   "outputs": [],
   "source": []
  }
 ],
 "metadata": {
  "kernelspec": {
   "display_name": "base",
   "language": "python",
   "name": "python3"
  },
  "language_info": {
   "codemirror_mode": {
    "name": "ipython",
    "version": 3
   },
   "file_extension": ".py",
   "mimetype": "text/x-python",
   "name": "python",
   "nbconvert_exporter": "python",
   "pygments_lexer": "ipython3",
   "version": "3.11.7"
  },
  "orig_nbformat": 4
 },
 "nbformat": 4,
 "nbformat_minor": 2
}
